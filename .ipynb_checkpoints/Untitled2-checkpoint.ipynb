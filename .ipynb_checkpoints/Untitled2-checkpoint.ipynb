{
 "cells": [
  {
   "cell_type": "code",
   "execution_count": 1,
   "metadata": {},
   "outputs": [],
   "source": [
    "import numpy as np\n",
    "import pandas as pd\n",
    "%matplotlib inline\n",
    "import matplotlib.pyplot as plt\n",
    "import matplotlib.dates as mdates\n",
    "from sklearn.decomposition import PCA\n",
    "import datetime,time"
   ]
  },
  {
   "cell_type": "code",
   "execution_count": 2,
   "metadata": {},
   "outputs": [],
   "source": [
    "def preprocess_x(x_data,is_train=True):\n",
    "    # 丟掉 canceled 且 no deposit 的資料\n",
    "    if(is_train):\n",
    "        x_data.drop(x_data[(x_data['is_canceled']==1)&(x_data['deposit_type']=='No Deposit')].index,inplace=True)\n",
    "    x_data = combine_arrival_date(x_data)\n",
    "    if(is_train):\n",
    "        x_data['date_difference'] = (pd.to_datetime(x_data['reservation_status_date']) - pd.to_datetime(x_data['arrival_date']) + datetime.timedelta(days=1))\n",
    "    x_data['stays_total_nights'] = x_data['stays_in_week_nights'] + x_data['stays_in_weekend_nights']\n",
    "    if(is_train):\n",
    "        x_data['booking_total_revenue'] = np.where(x_data['is_canceled']==0,(x_data['stays_total_nights']+1)*x_data['adr'],x_data['adr'])\n",
    "    else:\n",
    "        x_data['booking_total_revenue'] = (x_data['stays_total_nights']+1)*x_data['adr']\n",
    "    train_booking_total_tmp = x_data.groupby('arrival_date').sum()\n",
    "    train_booking_total_tmp['arrival_date'] = train_booking_total_tmp.index\n",
    "    train_booking_total = train_booking_total_tmp[['arrival_date','booking_total_revenue']]\n",
    "    x = train_booking_total.set_index('arrival_date').values\n",
    "#     y = y_data.set_index('arrival_date').values\n",
    "#     y = np.reshape(y,(640,))\n",
    "    return x,x_data\n",
    "def preprocess_y(y_data):\n",
    "    y = y_data.set_index('arrival_date').values\n",
    "    y = np.reshape(y,(640,))\n",
    "    return y"
   ]
  },
  {
   "cell_type": "code",
   "execution_count": 3,
   "metadata": {},
   "outputs": [],
   "source": [
    "def combine_arrival_date(x_data):\n",
    "    #將arrival_date做出來\n",
    "    day_to_str = {}\n",
    "    for i in range(1,32):\n",
    "        if i<10:\n",
    "            day_to_str[str(i)]='0'+str(i)\n",
    "        else:\n",
    "            day_to_str[str(i)]=str(i)\n",
    "    x_data['arrival_date_year'] = x_data['arrival_date_year'].astype(str)\n",
    "    x_data['arrival_date_month'] = x_data['arrival_date_month'].map({'January':'01','February':'02','March':'03','April':'04','May':'05','June':'06','July':'07','August':'08','September':'09','October':'10','November':'11','December':'12'})\n",
    "    x_data['arrival_date_day_of_month'] = x_data['arrival_date_day_of_month'].astype(str).map(day_to_str)\n",
    "    x_data['arrival_date'] = x_data['arrival_date_year'] + '-' + x_data['arrival_date_month'] + '-' + x_data['arrival_date_day_of_month']\n",
    "    # x_data.drop(['arrival_date_year','arrival_date_day_of_month'],axis=1,inplace=True)\n",
    "    return x_data"
   ]
  },
  {
   "cell_type": "code",
   "execution_count": 4,
   "metadata": {},
   "outputs": [],
   "source": [
    "# function\n",
    "def pre_adr_model(train,test):\n",
    "    x,booking_total = preprocess_x(train)\n",
    "    test = combine_arrival_date(test)\n",
    "    # 丟掉一些沒用到的 features\n",
    "    booking_total.drop(['country','company','is_canceled','reservation_status','reservation_status_date','date_difference','stays_total_nights'],axis=1,inplace=True)\n",
    "    test.drop(['country','company'],axis=1,inplace=True)\n",
    "    # children 補眾數(補 0)\n",
    "    booking_total['children'].fillna(0,inplace=True)\n",
    "    # agent 沒有的補 0\n",
    "    # booking_total['agent'].fillna(0,inplace=True)\n",
    "    # test['agent'].fillna(0,inplace=True)\n",
    "    booking_total.drop(['agent'],axis=1,inplace=True)\n",
    "    test.drop(['agent'],axis=1,inplace=True)\n",
    "\n",
    "    # datatype 轉成一樣\n",
    "    booking_total.hotel =booking_total.hotel.astype('category')\n",
    "    test.hotel = test.hotel.astype('category')\n",
    "    booking_total.children = booking_total[\"children\"].astype(int)\n",
    "    test.children = test[\"children\"].astype(int)\n",
    "    # meal 的 undefined 和 SC 是一樣的\n",
    "    booking_total['meal'].replace('Undefined','SC',inplace=True)\n",
    "    test['meal'].replace('Undefined','SC',inplace=True)\n",
    "    X_booking = pd.get_dummies(data=booking_total,columns=[\"hotel\",\"arrival_date_week_number\",\"arrival_date_year\",\"arrival_date_day_of_month\",\"arrival_date_month\",\"meal\",\"market_segment\",\n",
    "    \"distribution_channel\",\"reserved_room_type\",\"assigned_room_type\",\"deposit_type\",\"customer_type\"])\n",
    "    test = pd.get_dummies(data=test,columns=[\"hotel\",\"arrival_date_week_number\",\"arrival_date_year\",\"arrival_date_day_of_month\",\"arrival_date_month\",\"meal\",\"market_segment\",\n",
    "    \"distribution_channel\",\"reserved_room_type\",\"assigned_room_type\",\"deposit_type\",\"customer_type\"])\n",
    "    X_booking['assigned_room_type_P'] = 0\n",
    "    X_booking['reserved_room_type_P'] = 0\n",
    "    test['reserved_room_type_L'] = 0\n",
    "    test['arrival_date_month_01'] = 0\n",
    "    test['arrival_date_month_02'] = 0\n",
    "    test['arrival_date_month_03'] = 0\n",
    "    test['arrival_date_month_09'] = 0\n",
    "    test['arrival_date_month_10'] = 0\n",
    "    test['arrival_date_month_11'] = 0\n",
    "    test['arrival_date_month_12'] = 0\n",
    "    test['distribution_channel_Undefined'] = 0\n",
    "    X_booking_ret = copy.deepcopy(X_booking)\n",
    "    test_ret = copy.deepcopy(test)\n",
    "    X_booking.drop(['arrival_date','ID'],axis=1,inplace=True)\n",
    "    test.drop(['arrival_date','ID'],axis=1,inplace=True)\n",
    "    X = X_booking.drop(['booking_total_revenue','adr'],axis=1).values\n",
    "    test = test.values\n",
    "    Y = X_booking['adr']\n",
    "    return X,Y,test,X_booking_ret,test_ret"
   ]
  },
  {
   "cell_type": "code",
   "execution_count": 5,
   "metadata": {},
   "outputs": [],
   "source": [
    "train = pd.read_csv('./train.csv')\n",
    "test = pd.read_csv('./test.csv')"
   ]
  },
  {
   "cell_type": "code",
   "execution_count": null,
   "metadata": {},
   "outputs": [],
   "source": [
    "X,Y,test,X_booking_ret,test_ret = pre_adr_model(train,test)"
   ]
  },
  {
   "cell_type": "code",
   "execution_count": null,
   "metadata": {},
   "outputs": [],
   "source": [
    "X_booking_ret.groupby('arrival_date').sum().drop(['ID','adr','booking_total_revenue'],axis=1).to_csv('train_new.csv')"
   ]
  },
  {
   "cell_type": "code",
   "execution_count": null,
   "metadata": {},
   "outputs": [],
   "source": [
    "test_ret.groupby('arrival_date').sum().drop(['ID'],axis=1).to_csv('test_new.csv')"
   ]
  }
 ],
 "metadata": {
  "kernelspec": {
   "display_name": "Python (ML)",
   "language": "python",
   "name": "ml"
  },
  "language_info": {
   "codemirror_mode": {
    "name": "ipython",
    "version": 3
   },
   "file_extension": ".py",
   "mimetype": "text/x-python",
   "name": "python",
   "nbconvert_exporter": "python",
   "pygments_lexer": "ipython3",
   "version": "3.6.12"
  }
 },
 "nbformat": 4,
 "nbformat_minor": 4
}
