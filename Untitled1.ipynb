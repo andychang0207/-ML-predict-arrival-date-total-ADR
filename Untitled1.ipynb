{
 "cells": [
  {
   "cell_type": "code",
   "execution_count": 4,
   "metadata": {},
   "outputs": [],
   "source": [
    "import tensorflow.keras\n",
    "import tensorflow as tf\n"
   ]
  },
  {
   "cell_type": "code",
   "execution_count": 5,
   "metadata": {},
   "outputs": [
    {
     "name": "stdout",
     "output_type": "stream",
     "text": [
      "tensorflow version: 1.13.1\n",
      "keras version: 2.2.4-tf\n",
      "True\n"
     ]
    }
   ],
   "source": [
    "print('tensorflow version:',tf.__version__)\n",
    "print('keras version:',tensorflow.keras.__version__)\n",
    "print(tf.test.is_gpu_available())"
   ]
  },
  {
   "cell_type": "code",
   "execution_count": 6,
   "metadata": {},
   "outputs": [
    {
     "name": "stdout",
     "output_type": "stream",
     "text": [
      "# packages in environment at C:\\Users\\r09922110\\anaconda3\\envs\\ML:\n",
      "#\n",
      "# Name                    Version                   Build  Channel\n",
      "_tflow_select             2.1.0                       gpu  \n",
      "absl-py                   0.11.0             pyhd3eb1b0_1  \n",
      "astor                     0.8.1                    py36_0  \n",
      "backcall                  0.2.0                      py_0  \n",
      "blas                      1.0                         mkl  \n",
      "ca-certificates           2020.10.14                    0  \n",
      "certifi                   2020.12.5        py36haa95532_0  \n",
      "colorama                  0.4.4                      py_0  \n",
      "cudatoolkit               10.0.130                      0  \n",
      "cudnn                     7.6.5                cuda10.0_0  \n",
      "decorator                 4.4.2                      py_0  \n",
      "gast                      0.4.0                      py_0  \n",
      "grpcio                    1.31.0           py36he7da953_0  \n",
      "h5py                      2.10.0           py36h5e291fa_0  \n",
      "hdf5                      1.10.4               h7ebc959_0  \n",
      "icc_rt                    2019.0.0             h0cc432a_1  \n",
      "importlib-metadata        2.0.0                      py_1  \n",
      "intel-openmp              2020.2                      254  \n",
      "ipykernel                 5.3.4            py36h5ca1d4c_0  \n",
      "ipython                   7.16.1           py36h5ca1d4c_0  \n",
      "ipython_genutils          0.2.0              pyhd3eb1b0_1  \n",
      "jedi                      0.17.2           py36haa95532_1  \n",
      "jupyter_client            6.1.7                      py_0  \n",
      "jupyter_core              4.7.0            py36haa95532_0  \n",
      "keras-applications        1.0.8                      py_1  \n",
      "keras-preprocessing       1.1.0                      py_1  \n",
      "libprotobuf               3.13.0.1             h200bbdf_0  \n",
      "libsodium                 1.0.18               h62dcd97_0  \n",
      "markdown                  3.3.3            py36haa95532_0  \n",
      "mkl                       2020.2                      256  \n",
      "mkl-service               2.3.0            py36h196d8e1_0  \n",
      "mkl_fft                   1.2.0            py36h45dec08_0  \n",
      "mkl_random                1.1.1            py36h47e9c7a_0  \n",
      "mock                      4.0.2                      py_0  \n",
      "numpy                     1.19.2           py36hadc3359_0  \n",
      "numpy-base                1.19.2           py36ha3acd2a_0  \n",
      "openssl                   1.1.1h               he774522_0  \n",
      "parso                     0.7.0                      py_0  \n",
      "pickleshare               0.7.5           pyhd3eb1b0_1003  \n",
      "pip                       20.3.1           py36haa95532_0  \n",
      "prompt-toolkit            3.0.8                      py_0  \n",
      "protobuf                  3.13.0.1         py36ha925a31_1  \n",
      "pygments                  2.7.3              pyhd3eb1b0_0  \n",
      "pyreadline                2.1                      py36_1  \n",
      "python                    3.6.12               h5500b2f_2  \n",
      "python-dateutil           2.8.1                      py_0  \n",
      "pywin32                   227              py36he774522_1  \n",
      "pyzmq                     20.0.0           py36hd77b12b_1  \n",
      "scipy                     1.5.2            py36h9439919_0  \n",
      "setuptools                51.0.0           py36haa95532_2  \n",
      "six                       1.15.0           py36haa95532_0  \n",
      "sqlite                    3.33.0               h2a8f88b_0  \n",
      "tensorboard               1.13.1           py36h33f27b4_0  \n",
      "tensorflow                1.13.1          gpu_py36h9006a92_0  \n",
      "tensorflow-base           1.13.1          gpu_py36h871c8ca_0  \n",
      "tensorflow-estimator      1.13.0                     py_0  \n",
      "tensorflow-gpu            1.13.1               h0d30ee6_0  \n",
      "termcolor                 1.1.0                    py36_1  \n",
      "tornado                   6.1              py36h2bbff1b_0  \n",
      "traitlets                 4.3.3                    py36_0  \n",
      "vc                        14.2                 h21ff451_1  \n",
      "vs2015_runtime            14.27.29016          h5e58377_2  \n",
      "wcwidth                   0.2.5                      py_0  \n",
      "werkzeug                  1.0.1                      py_0  \n",
      "wheel                     0.36.1             pyhd3eb1b0_0  \n",
      "wincertstore              0.2              py36h7fe50ca_0  \n",
      "zeromq                    4.3.3                ha925a31_3  \n",
      "zipp                      3.4.0              pyhd3eb1b0_0  \n",
      "zlib                      1.2.11               h62dcd97_4  \n"
     ]
    }
   ],
   "source": [
    "!conda list"
   ]
  },
  {
   "cell_type": "code",
   "execution_count": 7,
   "metadata": {},
   "outputs": [
    {
     "name": "stdout",
     "output_type": "stream",
     "text": [
      "^C\n"
     ]
    }
   ],
   "source": [
    "!conda install pandas"
   ]
  },
  {
   "cell_type": "code",
   "execution_count": null,
   "metadata": {},
   "outputs": [],
   "source": []
  }
 ],
 "metadata": {
  "kernelspec": {
   "display_name": "Python (ML)",
   "language": "python",
   "name": "ml"
  },
  "language_info": {
   "codemirror_mode": {
    "name": "ipython",
    "version": 3
   },
   "file_extension": ".py",
   "mimetype": "text/x-python",
   "name": "python",
   "nbconvert_exporter": "python",
   "pygments_lexer": "ipython3",
   "version": "3.6.12"
  }
 },
 "nbformat": 4,
 "nbformat_minor": 4
}
