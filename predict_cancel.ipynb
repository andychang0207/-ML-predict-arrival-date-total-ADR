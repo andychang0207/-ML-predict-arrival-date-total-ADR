{
 "cells": [
  {
   "cell_type": "code",
   "execution_count": 55,
   "metadata": {},
   "outputs": [],
   "source": [
    "import pandas as pd\n",
    "import numpy as np"
   ]
  },
  {
   "cell_type": "code",
   "execution_count": 86,
   "metadata": {},
   "outputs": [],
   "source": [
    "import copy"
   ]
  },
  {
   "cell_type": "code",
   "execution_count": 56,
   "metadata": {},
   "outputs": [],
   "source": [
    "train = pd.read_csv('./train.csv')"
   ]
  },
  {
   "cell_type": "code",
   "execution_count": 57,
   "metadata": {},
   "outputs": [],
   "source": [
    "test = pd.read_csv('./test.csv')"
   ]
  },
  {
   "cell_type": "code",
   "execution_count": 58,
   "metadata": {},
   "outputs": [
    {
     "data": {
      "text/html": [
       "<div>\n",
       "<style scoped>\n",
       "    .dataframe tbody tr th:only-of-type {\n",
       "        vertical-align: middle;\n",
       "    }\n",
       "\n",
       "    .dataframe tbody tr th {\n",
       "        vertical-align: top;\n",
       "    }\n",
       "\n",
       "    .dataframe thead th {\n",
       "        text-align: right;\n",
       "    }\n",
       "</style>\n",
       "<table border=\"1\" class=\"dataframe\">\n",
       "  <thead>\n",
       "    <tr style=\"text-align: right;\">\n",
       "      <th></th>\n",
       "      <th>ID</th>\n",
       "      <th>hotel</th>\n",
       "      <th>is_canceled</th>\n",
       "      <th>lead_time</th>\n",
       "      <th>arrival_date_year</th>\n",
       "      <th>arrival_date_month</th>\n",
       "      <th>arrival_date_week_number</th>\n",
       "      <th>arrival_date_day_of_month</th>\n",
       "      <th>stays_in_weekend_nights</th>\n",
       "      <th>stays_in_week_nights</th>\n",
       "      <th>...</th>\n",
       "      <th>deposit_type</th>\n",
       "      <th>agent</th>\n",
       "      <th>company</th>\n",
       "      <th>days_in_waiting_list</th>\n",
       "      <th>customer_type</th>\n",
       "      <th>adr</th>\n",
       "      <th>required_car_parking_spaces</th>\n",
       "      <th>total_of_special_requests</th>\n",
       "      <th>reservation_status</th>\n",
       "      <th>reservation_status_date</th>\n",
       "    </tr>\n",
       "  </thead>\n",
       "  <tbody>\n",
       "    <tr>\n",
       "      <th>0</th>\n",
       "      <td>0</td>\n",
       "      <td>Resort Hotel</td>\n",
       "      <td>0</td>\n",
       "      <td>342</td>\n",
       "      <td>2015</td>\n",
       "      <td>July</td>\n",
       "      <td>27</td>\n",
       "      <td>1</td>\n",
       "      <td>0</td>\n",
       "      <td>0</td>\n",
       "      <td>...</td>\n",
       "      <td>No Deposit</td>\n",
       "      <td>NaN</td>\n",
       "      <td>NaN</td>\n",
       "      <td>0</td>\n",
       "      <td>Transient</td>\n",
       "      <td>-6.305161</td>\n",
       "      <td>0</td>\n",
       "      <td>0</td>\n",
       "      <td>Check-Out</td>\n",
       "      <td>2015-07-01</td>\n",
       "    </tr>\n",
       "    <tr>\n",
       "      <th>1</th>\n",
       "      <td>1</td>\n",
       "      <td>City Hotel</td>\n",
       "      <td>0</td>\n",
       "      <td>257</td>\n",
       "      <td>2015</td>\n",
       "      <td>July</td>\n",
       "      <td>27</td>\n",
       "      <td>1</td>\n",
       "      <td>0</td>\n",
       "      <td>2</td>\n",
       "      <td>...</td>\n",
       "      <td>No Deposit</td>\n",
       "      <td>6.0</td>\n",
       "      <td>NaN</td>\n",
       "      <td>0</td>\n",
       "      <td>Transient</td>\n",
       "      <td>75.052227</td>\n",
       "      <td>0</td>\n",
       "      <td>0</td>\n",
       "      <td>Check-Out</td>\n",
       "      <td>2015-07-03</td>\n",
       "    </tr>\n",
       "    <tr>\n",
       "      <th>2</th>\n",
       "      <td>2</td>\n",
       "      <td>City Hotel</td>\n",
       "      <td>0</td>\n",
       "      <td>257</td>\n",
       "      <td>2015</td>\n",
       "      <td>July</td>\n",
       "      <td>27</td>\n",
       "      <td>1</td>\n",
       "      <td>0</td>\n",
       "      <td>2</td>\n",
       "      <td>...</td>\n",
       "      <td>No Deposit</td>\n",
       "      <td>6.0</td>\n",
       "      <td>NaN</td>\n",
       "      <td>0</td>\n",
       "      <td>Transient</td>\n",
       "      <td>74.546401</td>\n",
       "      <td>0</td>\n",
       "      <td>0</td>\n",
       "      <td>Check-Out</td>\n",
       "      <td>2015-07-03</td>\n",
       "    </tr>\n",
       "    <tr>\n",
       "      <th>3</th>\n",
       "      <td>3</td>\n",
       "      <td>City Hotel</td>\n",
       "      <td>0</td>\n",
       "      <td>257</td>\n",
       "      <td>2015</td>\n",
       "      <td>July</td>\n",
       "      <td>27</td>\n",
       "      <td>1</td>\n",
       "      <td>0</td>\n",
       "      <td>2</td>\n",
       "      <td>...</td>\n",
       "      <td>No Deposit</td>\n",
       "      <td>6.0</td>\n",
       "      <td>NaN</td>\n",
       "      <td>0</td>\n",
       "      <td>Transient</td>\n",
       "      <td>76.376288</td>\n",
       "      <td>0</td>\n",
       "      <td>0</td>\n",
       "      <td>Check-Out</td>\n",
       "      <td>2015-07-03</td>\n",
       "    </tr>\n",
       "    <tr>\n",
       "      <th>4</th>\n",
       "      <td>4</td>\n",
       "      <td>City Hotel</td>\n",
       "      <td>0</td>\n",
       "      <td>257</td>\n",
       "      <td>2015</td>\n",
       "      <td>July</td>\n",
       "      <td>27</td>\n",
       "      <td>1</td>\n",
       "      <td>0</td>\n",
       "      <td>2</td>\n",
       "      <td>...</td>\n",
       "      <td>No Deposit</td>\n",
       "      <td>6.0</td>\n",
       "      <td>NaN</td>\n",
       "      <td>0</td>\n",
       "      <td>Transient</td>\n",
       "      <td>49.411647</td>\n",
       "      <td>0</td>\n",
       "      <td>0</td>\n",
       "      <td>Check-Out</td>\n",
       "      <td>2015-07-03</td>\n",
       "    </tr>\n",
       "    <tr>\n",
       "      <th>...</th>\n",
       "      <td>...</td>\n",
       "      <td>...</td>\n",
       "      <td>...</td>\n",
       "      <td>...</td>\n",
       "      <td>...</td>\n",
       "      <td>...</td>\n",
       "      <td>...</td>\n",
       "      <td>...</td>\n",
       "      <td>...</td>\n",
       "      <td>...</td>\n",
       "      <td>...</td>\n",
       "      <td>...</td>\n",
       "      <td>...</td>\n",
       "      <td>...</td>\n",
       "      <td>...</td>\n",
       "      <td>...</td>\n",
       "      <td>...</td>\n",
       "      <td>...</td>\n",
       "      <td>...</td>\n",
       "      <td>...</td>\n",
       "      <td>...</td>\n",
       "    </tr>\n",
       "    <tr>\n",
       "      <th>91526</th>\n",
       "      <td>91526</td>\n",
       "      <td>Resort Hotel</td>\n",
       "      <td>1</td>\n",
       "      <td>19</td>\n",
       "      <td>2017</td>\n",
       "      <td>March</td>\n",
       "      <td>13</td>\n",
       "      <td>31</td>\n",
       "      <td>0</td>\n",
       "      <td>2</td>\n",
       "      <td>...</td>\n",
       "      <td>No Deposit</td>\n",
       "      <td>250.0</td>\n",
       "      <td>NaN</td>\n",
       "      <td>0</td>\n",
       "      <td>Transient</td>\n",
       "      <td>79.223571</td>\n",
       "      <td>0</td>\n",
       "      <td>1</td>\n",
       "      <td>Canceled</td>\n",
       "      <td>2017-03-22</td>\n",
       "    </tr>\n",
       "    <tr>\n",
       "      <th>91527</th>\n",
       "      <td>91527</td>\n",
       "      <td>Resort Hotel</td>\n",
       "      <td>0</td>\n",
       "      <td>28</td>\n",
       "      <td>2017</td>\n",
       "      <td>March</td>\n",
       "      <td>13</td>\n",
       "      <td>31</td>\n",
       "      <td>0</td>\n",
       "      <td>2</td>\n",
       "      <td>...</td>\n",
       "      <td>No Deposit</td>\n",
       "      <td>NaN</td>\n",
       "      <td>NaN</td>\n",
       "      <td>0</td>\n",
       "      <td>Transient</td>\n",
       "      <td>-6.822102</td>\n",
       "      <td>0</td>\n",
       "      <td>0</td>\n",
       "      <td>Check-Out</td>\n",
       "      <td>2017-04-02</td>\n",
       "    </tr>\n",
       "    <tr>\n",
       "      <th>91528</th>\n",
       "      <td>91528</td>\n",
       "      <td>Resort Hotel</td>\n",
       "      <td>0</td>\n",
       "      <td>2</td>\n",
       "      <td>2017</td>\n",
       "      <td>March</td>\n",
       "      <td>13</td>\n",
       "      <td>31</td>\n",
       "      <td>0</td>\n",
       "      <td>1</td>\n",
       "      <td>...</td>\n",
       "      <td>No Deposit</td>\n",
       "      <td>NaN</td>\n",
       "      <td>NaN</td>\n",
       "      <td>0</td>\n",
       "      <td>Transient</td>\n",
       "      <td>90.814554</td>\n",
       "      <td>0</td>\n",
       "      <td>2</td>\n",
       "      <td>Check-Out</td>\n",
       "      <td>2017-04-01</td>\n",
       "    </tr>\n",
       "    <tr>\n",
       "      <th>91529</th>\n",
       "      <td>91529</td>\n",
       "      <td>Resort Hotel</td>\n",
       "      <td>0</td>\n",
       "      <td>30</td>\n",
       "      <td>2017</td>\n",
       "      <td>March</td>\n",
       "      <td>13</td>\n",
       "      <td>31</td>\n",
       "      <td>3</td>\n",
       "      <td>7</td>\n",
       "      <td>...</td>\n",
       "      <td>No Deposit</td>\n",
       "      <td>250.0</td>\n",
       "      <td>NaN</td>\n",
       "      <td>0</td>\n",
       "      <td>Transient</td>\n",
       "      <td>38.135565</td>\n",
       "      <td>0</td>\n",
       "      <td>1</td>\n",
       "      <td>Check-Out</td>\n",
       "      <td>2017-04-10</td>\n",
       "    </tr>\n",
       "    <tr>\n",
       "      <th>91530</th>\n",
       "      <td>91530</td>\n",
       "      <td>Resort Hotel</td>\n",
       "      <td>0</td>\n",
       "      <td>1</td>\n",
       "      <td>2017</td>\n",
       "      <td>March</td>\n",
       "      <td>13</td>\n",
       "      <td>31</td>\n",
       "      <td>0</td>\n",
       "      <td>1</td>\n",
       "      <td>...</td>\n",
       "      <td>No Deposit</td>\n",
       "      <td>250.0</td>\n",
       "      <td>NaN</td>\n",
       "      <td>0</td>\n",
       "      <td>Transient</td>\n",
       "      <td>58.196470</td>\n",
       "      <td>0</td>\n",
       "      <td>1</td>\n",
       "      <td>Check-Out</td>\n",
       "      <td>2017-04-01</td>\n",
       "    </tr>\n",
       "  </tbody>\n",
       "</table>\n",
       "<p>91531 rows × 33 columns</p>\n",
       "</div>"
      ],
      "text/plain": [
       "          ID         hotel  is_canceled  lead_time  arrival_date_year  \\\n",
       "0          0  Resort Hotel            0        342               2015   \n",
       "1          1    City Hotel            0        257               2015   \n",
       "2          2    City Hotel            0        257               2015   \n",
       "3          3    City Hotel            0        257               2015   \n",
       "4          4    City Hotel            0        257               2015   \n",
       "...      ...           ...          ...        ...                ...   \n",
       "91526  91526  Resort Hotel            1         19               2017   \n",
       "91527  91527  Resort Hotel            0         28               2017   \n",
       "91528  91528  Resort Hotel            0          2               2017   \n",
       "91529  91529  Resort Hotel            0         30               2017   \n",
       "91530  91530  Resort Hotel            0          1               2017   \n",
       "\n",
       "      arrival_date_month  arrival_date_week_number  arrival_date_day_of_month  \\\n",
       "0                   July                        27                          1   \n",
       "1                   July                        27                          1   \n",
       "2                   July                        27                          1   \n",
       "3                   July                        27                          1   \n",
       "4                   July                        27                          1   \n",
       "...                  ...                       ...                        ...   \n",
       "91526              March                        13                         31   \n",
       "91527              March                        13                         31   \n",
       "91528              March                        13                         31   \n",
       "91529              March                        13                         31   \n",
       "91530              March                        13                         31   \n",
       "\n",
       "       stays_in_weekend_nights  stays_in_week_nights  ...  deposit_type  \\\n",
       "0                            0                     0  ...    No Deposit   \n",
       "1                            0                     2  ...    No Deposit   \n",
       "2                            0                     2  ...    No Deposit   \n",
       "3                            0                     2  ...    No Deposit   \n",
       "4                            0                     2  ...    No Deposit   \n",
       "...                        ...                   ...  ...           ...   \n",
       "91526                        0                     2  ...    No Deposit   \n",
       "91527                        0                     2  ...    No Deposit   \n",
       "91528                        0                     1  ...    No Deposit   \n",
       "91529                        3                     7  ...    No Deposit   \n",
       "91530                        0                     1  ...    No Deposit   \n",
       "\n",
       "       agent  company days_in_waiting_list customer_type        adr  \\\n",
       "0        NaN      NaN                    0     Transient  -6.305161   \n",
       "1        6.0      NaN                    0     Transient  75.052227   \n",
       "2        6.0      NaN                    0     Transient  74.546401   \n",
       "3        6.0      NaN                    0     Transient  76.376288   \n",
       "4        6.0      NaN                    0     Transient  49.411647   \n",
       "...      ...      ...                  ...           ...        ...   \n",
       "91526  250.0      NaN                    0     Transient  79.223571   \n",
       "91527    NaN      NaN                    0     Transient  -6.822102   \n",
       "91528    NaN      NaN                    0     Transient  90.814554   \n",
       "91529  250.0      NaN                    0     Transient  38.135565   \n",
       "91530  250.0      NaN                    0     Transient  58.196470   \n",
       "\n",
       "      required_car_parking_spaces  total_of_special_requests  \\\n",
       "0                               0                          0   \n",
       "1                               0                          0   \n",
       "2                               0                          0   \n",
       "3                               0                          0   \n",
       "4                               0                          0   \n",
       "...                           ...                        ...   \n",
       "91526                           0                          1   \n",
       "91527                           0                          0   \n",
       "91528                           0                          2   \n",
       "91529                           0                          1   \n",
       "91530                           0                          1   \n",
       "\n",
       "       reservation_status  reservation_status_date  \n",
       "0               Check-Out               2015-07-01  \n",
       "1               Check-Out               2015-07-03  \n",
       "2               Check-Out               2015-07-03  \n",
       "3               Check-Out               2015-07-03  \n",
       "4               Check-Out               2015-07-03  \n",
       "...                   ...                      ...  \n",
       "91526            Canceled               2017-03-22  \n",
       "91527           Check-Out               2017-04-02  \n",
       "91528           Check-Out               2017-04-01  \n",
       "91529           Check-Out               2017-04-10  \n",
       "91530           Check-Out               2017-04-01  \n",
       "\n",
       "[91531 rows x 33 columns]"
      ]
     },
     "execution_count": 58,
     "metadata": {},
     "output_type": "execute_result"
    }
   ],
   "source": [
    "train"
   ]
  },
  {
   "cell_type": "code",
   "execution_count": 59,
   "metadata": {},
   "outputs": [],
   "source": [
    "train.drop(['country'],axis=1,inplace=True)"
   ]
  },
  {
   "cell_type": "code",
   "execution_count": 60,
   "metadata": {},
   "outputs": [],
   "source": [
    "train.drop(['company'],axis=1,inplace=True)"
   ]
  },
  {
   "cell_type": "code",
   "execution_count": 61,
   "metadata": {},
   "outputs": [],
   "source": [
    "train.drop(['reservation_status','reservation_status_date'],axis=1,inplace=True)"
   ]
  },
  {
   "cell_type": "code",
   "execution_count": 62,
   "metadata": {},
   "outputs": [],
   "source": [
    "train['children'].fillna(0,inplace=True)\n",
    "train['agent'].fillna(0,inplace=True)\n",
    "train.hotel =train.hotel.astype('category')\n",
    "train.children = train[\"children\"].astype(int)\n",
    "train.agent = train['agent'].astype(int)\n",
    "train['meal'].replace('Undefined','SC',inplace=True)"
   ]
  },
  {
   "cell_type": "code",
   "execution_count": 63,
   "metadata": {},
   "outputs": [],
   "source": [
    "test.drop(['country'],axis=1,inplace=True)"
   ]
  },
  {
   "cell_type": "code",
   "execution_count": 64,
   "metadata": {},
   "outputs": [],
   "source": [
    "test.drop(['company'],axis=1,inplace=True)"
   ]
  },
  {
   "cell_type": "code",
   "execution_count": 65,
   "metadata": {},
   "outputs": [],
   "source": [
    "test['children'].fillna(0,inplace=True)\n",
    "test['agent'].fillna(0,inplace=True)\n",
    "test.hotel =test.hotel.astype('category')\n",
    "test.children = test[\"children\"].astype(int)\n",
    "test.agent = test['agent'].astype(int)\n",
    "test['meal'].replace('Undefined','SC',inplace=True)"
   ]
  },
  {
   "cell_type": "code",
   "execution_count": 66,
   "metadata": {},
   "outputs": [
    {
     "data": {
      "text/plain": [
       "{'adr', 'is_canceled'}"
      ]
     },
     "execution_count": 66,
     "metadata": {},
     "output_type": "execute_result"
    }
   ],
   "source": [
    "set(test.columns) ^ set(train.columns)"
   ]
  },
  {
   "cell_type": "code",
   "execution_count": 67,
   "metadata": {},
   "outputs": [],
   "source": [
    "x_tmp = train.drop(['adr','is_canceled'],axis=1)"
   ]
  },
  {
   "cell_type": "code",
   "execution_count": 68,
   "metadata": {},
   "outputs": [],
   "source": [
    "y_tmp = train['is_canceled']"
   ]
  },
  {
   "cell_type": "code",
   "execution_count": 73,
   "metadata": {},
   "outputs": [
    {
     "data": {
      "text/plain": [
       "set()"
      ]
     },
     "execution_count": 73,
     "metadata": {},
     "output_type": "execute_result"
    }
   ],
   "source": [
    "set(x_tmp.columns) ^ set(test.columns)"
   ]
  },
  {
   "cell_type": "code",
   "execution_count": 70,
   "metadata": {},
   "outputs": [],
   "source": [
    "from sklearn.ensemble import RandomForestClassifier\n",
    "x_tmp = pd.get_dummies(data=x_tmp,columns=[\"hotel\",\"arrival_date_month\",\"meal\",\"market_segment\",\n",
    "\"distribution_channel\",\"reserved_room_type\",\"deposit_type\",\"customer_type\",\"assigned_room_type\"])"
   ]
  },
  {
   "cell_type": "code",
   "execution_count": 71,
   "metadata": {},
   "outputs": [],
   "source": [
    "test = pd.get_dummies(data=test,columns=[\"hotel\",\"arrival_date_month\",\"meal\",\"market_segment\",\n",
    "\"distribution_channel\",\"reserved_room_type\",\"deposit_type\",\"customer_type\",\"assigned_room_type\"])"
   ]
  },
  {
   "cell_type": "code",
   "execution_count": 72,
   "metadata": {},
   "outputs": [],
   "source": [
    "test['arrival_date_month_February'] = 0 \n",
    "test['market_segment_Undefined'] = 0\n",
    "test['arrival_date_month_November'] = 0\n",
    "test['distribution_channel_Undefined'] = 0\n",
    "test['arrival_date_month_January'] = 0\n",
    "test['arrival_date_month_December'] = 0\n",
    "test['reserved_room_type_L'] = 0\n",
    "test['arrival_date_month_October'] = 0\n",
    "test['arrival_date_month_September'] = 0\n",
    "test['arrival_date_month_March'] = 0\n",
    "test['assigned_room_type_L'] = 0"
   ]
  },
  {
   "cell_type": "code",
   "execution_count": 74,
   "metadata": {},
   "outputs": [],
   "source": [
    "test=test[x_tmp.columns]"
   ]
  },
  {
   "cell_type": "code",
   "execution_count": 75,
   "metadata": {},
   "outputs": [],
   "source": [
    "X = x_tmp.values"
   ]
  },
  {
   "cell_type": "code",
   "execution_count": 76,
   "metadata": {},
   "outputs": [
    {
     "data": {
      "text/plain": [
       "(91531, 78)"
      ]
     },
     "execution_count": 76,
     "metadata": {},
     "output_type": "execute_result"
    }
   ],
   "source": [
    "X.shape"
   ]
  },
  {
   "cell_type": "code",
   "execution_count": 77,
   "metadata": {},
   "outputs": [],
   "source": [
    "Y = y_tmp.values"
   ]
  },
  {
   "cell_type": "code",
   "execution_count": 78,
   "metadata": {},
   "outputs": [
    {
     "data": {
      "text/plain": [
       "(91531,)"
      ]
     },
     "execution_count": 78,
     "metadata": {},
     "output_type": "execute_result"
    }
   ],
   "source": [
    "Y.shape"
   ]
  },
  {
   "cell_type": "code",
   "execution_count": 79,
   "metadata": {},
   "outputs": [],
   "source": [
    "clf = RandomForestClassifier(oob_score=True)"
   ]
  },
  {
   "cell_type": "code",
   "execution_count": 80,
   "metadata": {},
   "outputs": [
    {
     "data": {
      "text/plain": [
       "RandomForestClassifier(oob_score=True)"
      ]
     },
     "execution_count": 80,
     "metadata": {},
     "output_type": "execute_result"
    }
   ],
   "source": [
    "clf.fit(X,Y)"
   ]
  },
  {
   "cell_type": "code",
   "execution_count": 81,
   "metadata": {},
   "outputs": [
    {
     "data": {
      "text/plain": [
       "0.8924735881832385"
      ]
     },
     "execution_count": 81,
     "metadata": {},
     "output_type": "execute_result"
    }
   ],
   "source": [
    "clf.oob_score_"
   ]
  },
  {
   "cell_type": "code",
   "execution_count": 82,
   "metadata": {},
   "outputs": [],
   "source": [
    "test_cancel_predict = clf.predict(test)"
   ]
  },
  {
   "cell_type": "code",
   "execution_count": 83,
   "metadata": {},
   "outputs": [
    {
     "data": {
      "text/plain": [
       "array([0, 1, 0, ..., 0, 0, 0], dtype=int64)"
      ]
     },
     "execution_count": 83,
     "metadata": {},
     "output_type": "execute_result"
    }
   ],
   "source": [
    "test_cancel_predict"
   ]
  },
  {
   "cell_type": "code",
   "execution_count": 135,
   "metadata": {},
   "outputs": [],
   "source": [
    "train = pd.read_csv('./train.csv')\n",
    "test = pd.read_csv('./test.csv')"
   ]
  },
  {
   "cell_type": "code",
   "execution_count": 136,
   "metadata": {},
   "outputs": [],
   "source": [
    "test['is_canceled'] = test_cancel_predict"
   ]
  },
  {
   "cell_type": "code",
   "execution_count": 137,
   "metadata": {},
   "outputs": [],
   "source": [
    "def combine_arrival_date(data):\n",
    "    #將arrival_date做出來\n",
    "    x_data = copy.deepcopy(data)\n",
    "    day_to_str = {}\n",
    "    for i in range(1,32):\n",
    "        if i<10:\n",
    "            day_to_str[str(i)]='0'+str(i)\n",
    "        else:\n",
    "            day_to_str[str(i)]=str(i)\n",
    "    x_data['arrival_date_year'] = x_data['arrival_date_year'].astype(str)\n",
    "    x_data['arrival_date_month'] = x_data['arrival_date_month'].map({'January':'01','February':'02','March':'03','April':'04','May':'05','June':'06','July':'07','August':'08','September':'09','October':'10','November':'11','December':'12'})\n",
    "    x_data['arrival_date_day_of_month'] = x_data['arrival_date_day_of_month'].astype(str).map(day_to_str)\n",
    "    x_data['arrival_date'] = x_data['arrival_date_year'] + '-' + x_data['arrival_date_month'] + '-' + x_data['arrival_date_day_of_month']\n",
    "    # x_data.drop(['arrival_date_year','arrival_date_day_of_month'],axis=1,inplace=True)\n",
    "    return x_data"
   ]
  },
  {
   "cell_type": "code",
   "execution_count": 138,
   "metadata": {},
   "outputs": [],
   "source": [
    "def preprocess_x(x_data):\n",
    "    # 丟掉 canceled 且 no deposit 的資料\n",
    "    x_data.drop(x_data[(x_data['is_canceled']==1)&(x_data['deposit_type']=='No Deposit')].index,inplace=True)\n",
    "    x_data = combine_arrival_date(x_data)\n",
    "    #x_data['stays_total_nights'] = x_data['stays_in_week_nights'] + x_data['stays_in_weekend_nights']\n",
    "    #x_data['booking_total_revenue'] = (x_data['stays_total_nights']+1)*x_data['adr']\n",
    "#     train_booking_total_tmp = x_data.groupby('arrival_date').sum()\n",
    "#     train_booking_total_tmp['arrival_date'] = train_booking_total_tmp.index\n",
    "#     train_booking_total = train_booking_total_tmp[['arrival_date','booking_total_revenue']]\n",
    "#     x = train_booking_total.set_index('arrival_date').values\n",
    "#     y = y_data.set_index('arrival_date').values\n",
    "#     y = np.reshape(y,(640,))\n",
    "    return x_data"
   ]
  },
  {
   "cell_type": "code",
   "execution_count": 139,
   "metadata": {},
   "outputs": [],
   "source": [
    "# function\n",
    "def pre_adr_model(train,test):\n",
    "    booking_total = preprocess_x(train)\n",
    "    test = preprocess_x(test)\n",
    "    # 丟掉一些沒用到的 features\n",
    "    booking_total.drop(['country','company','is_canceled','reservation_status','reservation_status_date','adr'],axis=1,inplace=True)\n",
    "    test.drop(['country','company','is_canceled'],axis=1,inplace=True)\n",
    "    # children 補眾數(補 0)\n",
    "    booking_total['children'].fillna(0,inplace=True)\n",
    "    # agent 沒有的補 0\n",
    "    # booking_total['agent'].fillna(0,inplace=True)\n",
    "    # test['agent'].fillna(0,inplace=True)\n",
    "    booking_total.drop(['agent'],axis=1,inplace=True)\n",
    "    test.drop(['agent'],axis=1,inplace=True)\n",
    "\n",
    "    # datatype 轉成一樣\n",
    "    booking_total.hotel =booking_total.hotel.astype('category')\n",
    "    test.hotel = test.hotel.astype('category')\n",
    "    booking_total.children = booking_total[\"children\"].astype(int)\n",
    "    test.children = test[\"children\"].astype(int)\n",
    "    # meal 的 undefined 和 SC 是一樣的\n",
    "    booking_total['meal'].replace('Undefined','SC',inplace=True)\n",
    "    test['meal'].replace('Undefined','SC',inplace=True)\n",
    "    X_booking = pd.get_dummies(data=booking_total,columns=[\"hotel\",\"arrival_date_week_number\",\"arrival_date_day_of_month\",\"arrival_date_month\",\"meal\",\"market_segment\",\n",
    "    \"distribution_channel\",\"reserved_room_type\",\"assigned_room_type\",\"deposit_type\",\"customer_type\"])\n",
    "    test = pd.get_dummies(data=test,columns=[\"hotel\",\"arrival_date_week_number\",\"arrival_date_day_of_month\",\"arrival_date_month\",\"meal\",\"market_segment\",\n",
    "    \"distribution_channel\",\"reserved_room_type\",\"assigned_room_type\",\"deposit_type\",\"customer_type\"])\n",
    "    X_booking['assigned_room_type_P'] = 0\n",
    "    X_booking['reserved_room_type_P'] = 0\n",
    "    test['reserved_room_type_L'] = 0\n",
    "    test['arrival_date_month_01'] = 0\n",
    "    test['arrival_date_month_02'] = 0\n",
    "    test['arrival_date_month_03'] = 0\n",
    "    test['arrival_date_month_09'] = 0\n",
    "    test['arrival_date_month_10'] = 0\n",
    "    test['arrival_date_month_11'] = 0\n",
    "    test['arrival_date_month_12'] = 0\n",
    "    test['distribution_channel_Undefined'] = 0\n",
    "    test['arrival_date_week_number_1'] = 0\n",
    "    test['arrival_date_week_number_10'] = 0\n",
    "    test['arrival_date_week_number_11'] = 0\n",
    "    test['arrival_date_week_number_12'] = 0\n",
    "    test['arrival_date_week_number_2'] = 0\n",
    "    test['arrival_date_week_number_3'] = 0\n",
    "    test['arrival_date_week_number_36'] = 0\n",
    "    test['arrival_date_week_number_37'] = 0\n",
    "    test['arrival_date_week_number_38'] = 0\n",
    "    test['arrival_date_week_number_39'] = 0\n",
    "    test['arrival_date_week_number_4'] = 0\n",
    "    test['arrival_date_week_number_40'] = 0\n",
    "    test['arrival_date_week_number_41'] = 0\n",
    "    test['arrival_date_week_number_42'] = 0\n",
    "    test['arrival_date_week_number_43'] = 0\n",
    "    test['arrival_date_week_number_44'] = 0\n",
    "    test['arrival_date_week_number_45'] = 0\n",
    "    test['arrival_date_week_number_46'] = 0\n",
    "    test['arrival_date_week_number_47'] = 0\n",
    "    test['arrival_date_week_number_48'] = 0\n",
    "    test['arrival_date_week_number_49'] = 0\n",
    "    test['arrival_date_week_number_5'] = 0\n",
    "    test['arrival_date_week_number_50'] = 0\n",
    "    test['arrival_date_week_number_51'] = 0\n",
    "    test['arrival_date_week_number_52'] = 0\n",
    "    test['arrival_date_week_number_53'] = 0\n",
    "    test['arrival_date_week_number_6'] = 0\n",
    "    test['arrival_date_week_number_7'] = 0\n",
    "    test['arrival_date_week_number_8'] = 0\n",
    "    test['arrival_date_week_number_9'] = 0\n",
    "    X_booking.drop(['ID','arrival_date_year'],axis=1,inplace=True)\n",
    "    test.drop(['ID','arrival_date_year'],axis=1,inplace=True)\n",
    "    return X_booking,test"
   ]
  },
  {
   "cell_type": "code",
   "execution_count": 140,
   "metadata": {},
   "outputs": [],
   "source": [
    "train,test=pre_adr_model(train,test)"
   ]
  },
  {
   "cell_type": "code",
   "execution_count": 141,
   "metadata": {},
   "outputs": [
    {
     "data": {
      "text/plain": [
       "set()"
      ]
     },
     "execution_count": 141,
     "metadata": {},
     "output_type": "execute_result"
    }
   ],
   "source": [
    "set(train.columns) ^ set(test.columns)"
   ]
  },
  {
   "cell_type": "code",
   "execution_count": 142,
   "metadata": {},
   "outputs": [],
   "source": [
    "train_new = train.groupby('arrival_date').sum()\n",
    "test_new = test.groupby('arrival_date').sum()"
   ]
  },
  {
   "cell_type": "code",
   "execution_count": 143,
   "metadata": {},
   "outputs": [],
   "source": [
    "train_count = train.groupby('arrival_date').count()\n",
    "test_count = test.groupby('arrival_date').count()"
   ]
  },
  {
   "cell_type": "code",
   "execution_count": 144,
   "metadata": {},
   "outputs": [],
   "source": [
    "train_new['total'] = train_count['lead_time']\n",
    "test_new['total'] = test_count['lead_time']"
   ]
  },
  {
   "cell_type": "code",
   "execution_count": 149,
   "metadata": {},
   "outputs": [],
   "source": [
    "for i in range(1,54):\n",
    "    item = 'arrival_date_week_number_%s'%i\n",
    "    train_new[item] = train_new[item].astype(bool)\n",
    "    train_new[item] = train_new[item].astype(int)\n",
    "    test_new[item] = test_new[item].astype(bool)\n",
    "    test_new[item] = test_new[item].astype(int)\n",
    "for i in range(1,31):\n",
    "    if i < 10:\n",
    "        item = 'arrival_date_day_of_month_0%s'%i\n",
    "    else:\n",
    "        item = 'arrival_date_day_of_month_%s'%i\n",
    "    train_new[item] = train_new[item].astype(bool)\n",
    "    train_new[item] = train_new[item].astype(int)\n",
    "    test_new[item] = test_new[item].astype(bool)\n",
    "    test_new[item] = test_new[item].astype(int)\n",
    "for i in range(1,12):\n",
    "    if i < 10:\n",
    "        item = 'arrival_date_month_0%s'%i\n",
    "    else:\n",
    "        item = 'arrival_date_month_%s'%i\n",
    "    train_new[item] = train_new[item].astype(bool)\n",
    "    train_new[item] = train_new[item].astype(int)\n",
    "    test_new[item] = test_new[item].astype(bool)\n",
    "    test_new[item] = test_new[item].astype(int)"
   ]
  },
  {
   "cell_type": "code",
   "execution_count": 151,
   "metadata": {},
   "outputs": [],
   "source": [
    "train_new.to_csv('./x_tmp.csv')"
   ]
  },
  {
   "cell_type": "code",
   "execution_count": 152,
   "metadata": {},
   "outputs": [
    {
     "data": {
      "text/plain": [
       "(70457, 156)"
      ]
     },
     "execution_count": 152,
     "metadata": {},
     "output_type": "execute_result"
    }
   ],
   "source": [
    "train.shape"
   ]
  },
  {
   "cell_type": "code",
   "execution_count": 153,
   "metadata": {},
   "outputs": [],
   "source": [
    "train_new.to_csv('./train_new.csv')\n",
    "test_new.to_csv('./test_new.csv')"
   ]
  },
  {
   "cell_type": "code",
   "execution_count": null,
   "metadata": {},
   "outputs": [],
   "source": []
  }
 ],
 "metadata": {
  "kernelspec": {
   "display_name": "Python (ML)",
   "language": "python",
   "name": "ml"
  },
  "language_info": {
   "codemirror_mode": {
    "name": "ipython",
    "version": 3
   },
   "file_extension": ".py",
   "mimetype": "text/x-python",
   "name": "python",
   "nbconvert_exporter": "python",
   "pygments_lexer": "ipython3",
   "version": "3.6.12"
  }
 },
 "nbformat": 4,
 "nbformat_minor": 4
}
