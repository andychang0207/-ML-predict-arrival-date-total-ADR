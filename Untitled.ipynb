{
 "cells": [
  {
   "cell_type": "code",
   "execution_count": 1,
   "metadata": {},
   "outputs": [
    {
     "ename": "ModuleNotFoundError",
     "evalue": "No module named 'tensorflow'",
     "output_type": "error",
     "traceback": [
      "\u001b[1;31m---------------------------------------------------------------------------\u001b[0m",
      "\u001b[1;31mModuleNotFoundError\u001b[0m                       Traceback (most recent call last)",
      "\u001b[1;32m<ipython-input-1-4e1c97e1875c>\u001b[0m in \u001b[0;36m<module>\u001b[1;34m\u001b[0m\n\u001b[1;32m----> 1\u001b[1;33m \u001b[1;32mimport\u001b[0m \u001b[0mtensorflow\u001b[0m\u001b[1;33m.\u001b[0m\u001b[0mkeras\u001b[0m\u001b[1;33m\u001b[0m\u001b[1;33m\u001b[0m\u001b[0m\n\u001b[0m\u001b[0;32m      2\u001b[0m \u001b[1;32mimport\u001b[0m \u001b[0mtensorflow\u001b[0m \u001b[1;32mas\u001b[0m \u001b[0mtf\u001b[0m\u001b[1;33m\u001b[0m\u001b[1;33m\u001b[0m\u001b[0m\n",
      "\u001b[1;31mModuleNotFoundError\u001b[0m: No module named 'tensorflow'"
     ]
    }
   ],
   "source": [
    "import tensorflow.keras\n",
    "import tensorflow as tf"
   ]
  },
  {
   "cell_type": "code",
   "execution_count": 2,
   "metadata": {},
   "outputs": [
    {
     "name": "stdout",
     "output_type": "stream",
     "text": [
      "# packages in environment at C:\\Users\\r09922110\\anaconda3\\envs\\ML:\n",
      "#\n",
      "# Name                    Version                   Build  Channel\n",
      "_tflow_select             2.1.0                       gpu  \n",
      "absl-py                   0.11.0             pyhd3eb1b0_1  \n",
      "astor                     0.8.1                    py36_0  \n",
      "blas                      1.0                         mkl  \n",
      "ca-certificates           2020.10.14                    0  \n",
      "certifi                   2020.12.5        py36haa95532_0  \n",
      "cudatoolkit               10.0.130                      0  \n",
      "cudnn                     7.6.5                cuda10.0_0  \n",
      "gast                      0.4.0                      py_0  \n",
      "grpcio                    1.31.0           py36he7da953_0  \n",
      "h5py                      2.10.0           py36h5e291fa_0  \n",
      "hdf5                      1.10.4               h7ebc959_0  \n",
      "icc_rt                    2019.0.0             h0cc432a_1  \n",
      "importlib-metadata        2.0.0                      py_1  \n",
      "intel-openmp              2020.2                      254  \n",
      "keras-applications        1.0.8                      py_1  \n",
      "keras-preprocessing       1.1.0                      py_1  \n",
      "libprotobuf               3.13.0.1             h200bbdf_0  \n",
      "markdown                  3.3.3            py36haa95532_0  \n",
      "mkl                       2020.2                      256  \n",
      "mkl-service               2.3.0            py36h196d8e1_0  \n",
      "mkl_fft                   1.2.0            py36h45dec08_0  \n",
      "mkl_random                1.1.1            py36h47e9c7a_0  \n",
      "mock                      4.0.2                      py_0  \n",
      "numpy                     1.19.2           py36hadc3359_0  \n",
      "numpy-base                1.19.2           py36ha3acd2a_0  \n",
      "openssl                   1.1.1h               he774522_0  \n",
      "pip                       20.3.1           py36haa95532_0  \n",
      "protobuf                  3.13.0.1         py36ha925a31_1  \n",
      "pyreadline                2.1                      py36_1  \n",
      "python                    3.6.12               h5500b2f_2  \n",
      "scipy                     1.5.2            py36h9439919_0  \n",
      "setuptools                51.0.0           py36haa95532_2  \n",
      "six                       1.15.0           py36haa95532_0  \n",
      "sqlite                    3.33.0               h2a8f88b_0  \n",
      "tensorboard               1.13.1           py36h33f27b4_0  \n",
      "tensorflow                1.13.1          gpu_py36h9006a92_0  \n",
      "tensorflow-base           1.13.1          gpu_py36h871c8ca_0  \n",
      "tensorflow-estimator      1.13.0                     py_0  \n",
      "tensorflow-gpu            1.13.1               h0d30ee6_0  \n",
      "termcolor                 1.1.0                    py36_1  \n",
      "vc                        14.2                 h21ff451_1  \n",
      "vs2015_runtime            14.27.29016          h5e58377_2  \n",
      "werkzeug                  1.0.1                      py_0  \n",
      "wheel                     0.36.1             pyhd3eb1b0_0  \n",
      "wincertstore              0.2              py36h7fe50ca_0  \n",
      "zipp                      3.4.0              pyhd3eb1b0_0  \n",
      "zlib                      1.2.11               h62dcd97_4  \n"
     ]
    }
   ],
   "source": [
    "!conda list"
   ]
  },
  {
   "cell_type": "code",
   "execution_count": null,
   "metadata": {},
   "outputs": [],
   "source": []
  }
 ],
 "metadata": {
  "kernelspec": {
   "display_name": "Python 3",
   "language": "python",
   "name": "python3"
  },
  "language_info": {
   "codemirror_mode": {
    "name": "ipython",
    "version": 3
   },
   "file_extension": ".py",
   "mimetype": "text/x-python",
   "name": "python",
   "nbconvert_exporter": "python",
   "pygments_lexer": "ipython3",
   "version": "3.8.3"
  }
 },
 "nbformat": 4,
 "nbformat_minor": 4
}
