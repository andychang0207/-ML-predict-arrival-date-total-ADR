{
 "cells": [
  {
   "cell_type": "code",
   "execution_count": 9,
   "metadata": {},
   "outputs": [],
   "source": [
    "#讀檔\n",
    "import numpy as np\n",
    "import random\n",
    "from liblinearutil import *\n",
    "file = open('hw4_train.dat')\n",
    "c = file.readlines()\n",
    "raw_data = []\n",
    "#c[0].replace('\\n',' ').split(' ')\n",
    "for row in c:\n",
    "    tmp = row.replace('\\n',' ').split(' ')\n",
    "    tmp2 = []\n",
    "    for i in tmp:\n",
    "        if(i != \"\"):\n",
    "            tmp2.append(float(i))\n",
    "    raw_data.append(tmp2)"
   ]
  },
  {
   "cell_type": "code",
   "execution_count": 44,
   "metadata": {},
   "outputs": [],
   "source": [
    "#讀檔\n",
    "file = open('hw4_test.dat')\n",
    "c = file.readlines()\n",
    "test_data = []\n",
    "#c[0].replace('\\n',' ').split(' ')\n",
    "for row in c:\n",
    "    tmp = row.replace('\\n',' ').split(' ')\n",
    "    tmp2 = []\n",
    "    for i in tmp:\n",
    "        if(i != \"\"):\n",
    "            tmp2.append(float(i))\n",
    "    test_data.append(tmp2)"
   ]
  },
  {
   "cell_type": "code",
   "execution_count": 15,
   "metadata": {},
   "outputs": [],
   "source": [
    "x = []\n",
    "y = []\n",
    "for row in raw_data:\n",
    "    tmp = row[0:6]\n",
    "    tmp.insert(0,1.0)\n",
    "    x.append(tmp)\n",
    "    y.append(row[6])"
   ]
  },
  {
   "cell_type": "code",
   "execution_count": 45,
   "metadata": {},
   "outputs": [],
   "source": [
    "x_test = []\n",
    "y_test = []\n",
    "for row in test_data:\n",
    "    tmp = row[0:6]\n",
    "    tmp.insert(0,1.0)\n",
    "    x_test.append(tmp)\n",
    "    y_test.append(row[6])"
   ]
  },
  {
   "cell_type": "code",
   "execution_count": 19,
   "metadata": {},
   "outputs": [],
   "source": [
    "def transform(x):\n",
    "    res = []\n",
    "    for i in range(0,len(x)):\n",
    "        for j in range(i,len(x)):\n",
    "            res.append(x[i]*x[j])\n",
    "    return res"
   ]
  },
  {
   "cell_type": "code",
   "execution_count": 20,
   "metadata": {},
   "outputs": [
    {
     "data": {
      "text/plain": [
       "28"
      ]
     },
     "execution_count": 20,
     "metadata": {},
     "output_type": "execute_result"
    }
   ],
   "source": [
    "z = []\n",
    "for x_n in x:\n",
    "    z.append(transform(x_n))\n",
    "len(z[0])"
   ]
  },
  {
   "cell_type": "code",
   "execution_count": 46,
   "metadata": {},
   "outputs": [
    {
     "data": {
      "text/plain": [
       "28"
      ]
     },
     "execution_count": 46,
     "metadata": {},
     "output_type": "execute_result"
    }
   ],
   "source": [
    "z_test = []\n",
    "for x_test_n in x_test:\n",
    "    z_test.append(transform(x_test_n))\n",
    "len(z_test[0])"
   ]
  },
  {
   "cell_type": "code",
   "execution_count": 29,
   "metadata": {},
   "outputs": [],
   "source": [
    "import math"
   ]
  },
  {
   "cell_type": "code",
   "execution_count": 43,
   "metadata": {},
   "outputs": [],
   "source": [
    "def E_zero_one(y,x,m):\n",
    "    count = 0\n",
    "    p_label, p_acc, p_val = predict(y,x,m)\n",
    "    for i in range(0,len(p_label)):\n",
    "        if y[i] != p_label[i]:\n",
    "            count = count + 1\n",
    "    return count"
   ]
  },
  {
   "cell_type": "code",
   "execution_count": 82,
   "metadata": {},
   "outputs": [
    {
     "name": "stdout",
     "output_type": "stream",
     "text": [
      "Accuracy = 86.6667% (260/300) (classification)\n",
      "Accuracy = 87% (261/300) (classification)\n",
      "Accuracy = 80.6667% (242/300) (classification)\n",
      "Accuracy = 74.3333% (223/300) (classification)\n",
      "Accuracy = 51.6667% (155/300) (classification)\n"
     ]
    },
    {
     "data": {
      "text/plain": [
       "-2.0"
      ]
     },
     "execution_count": 82,
     "metadata": {},
     "output_type": "execute_result"
    }
   ],
   "source": [
    "#problem 16\n",
    "prob = problem(y,z)\n",
    "Eout_list = []\n",
    "lamda_list = []\n",
    "for lamda in [10**-4,10**-2,10**0,10**2,10**4]:\n",
    "    c = 1/(2*lamda)\n",
    "    para = parameter('-s 0 -c %f -e 0.000001'%c)\n",
    "    m = train(prob,para)\n",
    "    Eout_list.append(E_zero_one(y_test,z_test,m))\n",
    "    lamda_list.append(math.log10(lamda))\n",
    "lamda_list[np.argmin(np.array(Eout_list))]"
   ]
  },
  {
   "cell_type": "code",
   "execution_count": 83,
   "metadata": {},
   "outputs": [
    {
     "name": "stdout",
     "output_type": "stream",
     "text": [
      "Accuracy = 91% (182/200) (classification)\n",
      "Accuracy = 90% (180/200) (classification)\n",
      "Accuracy = 87% (174/200) (classification)\n",
      "Accuracy = 80.5% (161/200) (classification)\n",
      "Accuracy = 46.5% (93/200) (classification)\n"
     ]
    },
    {
     "data": {
      "text/plain": [
       "-4.0"
      ]
     },
     "execution_count": 83,
     "metadata": {},
     "output_type": "execute_result"
    }
   ],
   "source": [
    "#problem 17\n",
    "prob = problem(y,z)\n",
    "Ein_list = []\n",
    "lamda_list = []\n",
    "for lamda in [10**-4,10**-2,10**0,10**2,10**4]:\n",
    "    c = 1/(2*lamda)\n",
    "    para = parameter('-s 0 -c %f -e 0.000001'%c)\n",
    "    m = train(prob,para)\n",
    "    Ein_list.append(E_zero_one(y,z,m))\n",
    "    lamda_list.append(math.log10(lamda))\n",
    "lamda_list[np.argmin(np.array(Ein_list))]"
   ]
  },
  {
   "cell_type": "code",
   "execution_count": 85,
   "metadata": {},
   "outputs": [
    {
     "name": "stdout",
     "output_type": "stream",
     "text": [
      "---------------------------------\n",
      "lambda is 0.0001\n",
      "Accuracy = 80% (64/80) (classification)\n",
      "Eval: 0.2\n",
      "Accuracy = 82.3333% (247/300) (classification)\n",
      "Eout: 0.17666666666666667\n",
      "---------------------------------\n",
      "lambda is 0.01\n",
      "Accuracy = 86.25% (69/80) (classification)\n",
      "Eval: 0.1375\n",
      "Accuracy = 85.6667% (257/300) (classification)\n",
      "Eout: 0.14333333333333334\n",
      "---------------------------------\n",
      "lambda is 1\n",
      "Accuracy = 76.25% (61/80) (classification)\n",
      "Eval: 0.2375\n",
      "Accuracy = 76% (228/300) (classification)\n",
      "Eout: 0.24\n",
      "---------------------------------\n",
      "lambda is 100\n",
      "Accuracy = 73.75% (59/80) (classification)\n",
      "Eval: 0.2625\n",
      "Accuracy = 76.3333% (229/300) (classification)\n",
      "Eout: 0.23666666666666666\n",
      "---------------------------------\n",
      "lambda is 10000\n",
      "Accuracy = 42.5% (34/80) (classification)\n",
      "Eval: 0.575\n",
      "Accuracy = 51.6667% (155/300) (classification)\n",
      "Eout: 0.48333333333333334\n",
      "-------------------------------\n",
      "best lambda is -2.0\n",
      "Eout is 0.14333333333333334\n"
     ]
    }
   ],
   "source": [
    "#problem 18\n",
    "prob = problem(y[0:120],z[0:120])\n",
    "Eval_list = []\n",
    "Eout_list = []\n",
    "lamda_list = []\n",
    "model_list = []\n",
    "for lamda in [10**-4,10**-2,10**0,10**2,10**4]:\n",
    "    c = 1/(2*lamda)\n",
    "    para = parameter('-s 0 -c %f -e 0.000001'%c)\n",
    "    m = train(prob,para)\n",
    "    print('---------------------------------')\n",
    "    print('lambda is',lamda)\n",
    "    e = E_zero_one(y[120:],z[120:],m)\n",
    "    print('Eval:',e/len(y[120:]))\n",
    "    Eval_list.append(e)\n",
    "    lamda_list.append(math.log10(lamda))\n",
    "    model_list.append(m)\n",
    "    eout = E_zero_one(y_test,z_test,m)\n",
    "    print('Eout:',eout/len(y_test))\n",
    "    Eout_list.append(eout)\n",
    "print('-------------------------------')\n",
    "print('best lambda is',lamda_list[np.argmin(np.array(Eval_list))])\n",
    "print('Eout is',Eout_list[np.argmin(np.array(Eval_list))]/len(y_test))"
   ]
  },
  {
   "cell_type": "code",
   "execution_count": 67,
   "metadata": {},
   "outputs": [
    {
     "name": "stdout",
     "output_type": "stream",
     "text": [
      "---------------------------------\n",
      "lambda is 0.01\n",
      "Accuracy = 87% (261/300) (classification)\n",
      "Eout: 0.13\n"
     ]
    }
   ],
   "source": [
    "#problem 19\n",
    "prob = problem(y,z)\n",
    "lamda = 10**-2\n",
    "c = 1/(2*lamda)\n",
    "para = parameter('-s 0 -c %f -e 0.000001'%c)\n",
    "m = train(prob,para)\n",
    "print('---------------------------------')\n",
    "print('lambda is',lamda)\n",
    "eout = E_zero_one(y_test,z_test,m)\n",
    "print('Eout:',eout/len(y_test))"
   ]
  },
  {
   "cell_type": "code",
   "execution_count": 81,
   "metadata": {},
   "outputs": [
    {
     "name": "stdout",
     "output_type": "stream",
     "text": [
      "Accuracy = 87.5% (35/40) (classification)\n",
      "Accuracy = 77.5% (31/40) (classification)\n",
      "Accuracy = 95% (38/40) (classification)\n",
      "Accuracy = 77.5% (31/40) (classification)\n",
      "Accuracy = 90% (36/40) (classification)\n",
      "Accuracy = 85% (34/40) (classification)\n",
      "Accuracy = 80% (32/40) (classification)\n",
      "Accuracy = 95% (38/40) (classification)\n",
      "Accuracy = 85% (34/40) (classification)\n",
      "Accuracy = 95% (38/40) (classification)\n",
      "Accuracy = 80% (32/40) (classification)\n",
      "Accuracy = 90% (36/40) (classification)\n",
      "Accuracy = 90% (36/40) (classification)\n",
      "Accuracy = 80% (32/40) (classification)\n",
      "Accuracy = 82.5% (33/40) (classification)\n",
      "Accuracy = 77.5% (31/40) (classification)\n",
      "Accuracy = 92.5% (37/40) (classification)\n",
      "Accuracy = 85% (34/40) (classification)\n",
      "Accuracy = 75% (30/40) (classification)\n",
      "Accuracy = 80% (32/40) (classification)\n",
      "Accuracy = 42.5% (17/40) (classification)\n",
      "Accuracy = 65% (26/40) (classification)\n",
      "Accuracy = 47.5% (19/40) (classification)\n",
      "Accuracy = 40% (16/40) (classification)\n",
      "Accuracy = 45% (18/40) (classification)\n"
     ]
    },
    {
     "data": {
      "text/plain": [
       "0.12"
      ]
     },
     "execution_count": 81,
     "metadata": {},
     "output_type": "execute_result"
    }
   ],
   "source": [
    "#problem 20\n",
    "\n",
    "Ecv_list = []\n",
    "for lamda in [10**-4,10**-2,10**0,10**2,10**4]:\n",
    "    Ecv = 0.0\n",
    "    for i in [0,40,80,120,160]:\n",
    "        Dtest_y = y[0:i]+y[i+40:]\n",
    "        Dtest_z = z[0:i]+z[i+40:]\n",
    "        Dval_y = y[i:i+40]\n",
    "        Dval_z = z[i:i+40]\n",
    "        prob = problem(Dtest_y,Dtest_z)\n",
    "        c = 1/(2*lamda)\n",
    "        para = parameter('-s 0 -c %f -e 0.000001'%c)\n",
    "        m = train(prob,para)\n",
    "        Ecv = Ecv +(E_zero_one(Dval_y,Dval_z,m)/len(Dval_y))\n",
    "    Ecv_list.append(Ecv/5)\n",
    "min(Ecv_list)"
   ]
  },
  {
   "cell_type": "code",
   "execution_count": null,
   "metadata": {},
   "outputs": [],
   "source": []
  }
 ],
 "metadata": {
  "kernelspec": {
   "display_name": "Python 3",
   "language": "python",
   "name": "python3"
  },
  "language_info": {
   "codemirror_mode": {
    "name": "ipython",
    "version": 3
   },
   "file_extension": ".py",
   "mimetype": "text/x-python",
   "name": "python",
   "nbconvert_exporter": "python",
   "pygments_lexer": "ipython3",
   "version": "3.8.3"
  }
 },
 "nbformat": 4,
 "nbformat_minor": 4
}
