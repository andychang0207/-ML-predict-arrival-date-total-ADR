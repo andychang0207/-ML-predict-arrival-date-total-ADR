{
 "cells": [
  {
   "cell_type": "code",
   "execution_count": 1,
   "metadata": {},
   "outputs": [
    {
     "name": "stdout",
     "output_type": "stream",
     "text": [
      "Accuracy = 81.4286% (57/70) (classification)\n"
     ]
    }
   ],
   "source": [
    "from liblinearutil import *\n",
    "y, x = svm_read_problem('../heart_scale', return_scipy = True) # y: ndarray, x: csr_matrix\n",
    "m = train(y[:200], x[:200, :], '-c 4')\n",
    "p_label, p_acc, p_val = predict(y[200:], x[200:, :], m)"
   ]
  },
  {
   "cell_type": "code",
   "execution_count": null,
   "metadata": {},
   "outputs": [],
   "source": []
  }
 ],
 "metadata": {
  "kernelspec": {
   "display_name": "Python (ML)",
   "language": "python",
   "name": "ml"
  },
  "language_info": {
   "codemirror_mode": {
    "name": "ipython",
    "version": 3
   },
   "file_extension": ".py",
   "mimetype": "text/x-python",
   "name": "python",
   "nbconvert_exporter": "python",
   "pygments_lexer": "ipython3",
   "version": "3.6.12"
  }
 },
 "nbformat": 4,
 "nbformat_minor": 4
}
